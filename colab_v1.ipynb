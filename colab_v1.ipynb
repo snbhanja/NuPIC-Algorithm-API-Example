{
  "nbformat": 4,
  "nbformat_minor": 0,
  "metadata": {
    "colab": {
      "name": "Overview of Colaboratory Features",
      "version": "0.3.2",
      "provenance": [],
      "collapsed_sections": [],
      "toc_visible": true,
      "include_colab_link": true
    },
    "kernelspec": {
      "name": "python2",
      "display_name": "Python 2"
    }
  },
  "cells": [
    {
      "cell_type": "markdown",
      "metadata": {
        "id": "view-in-github",
        "colab_type": "text"
      },
      "source": [
        "<a href=\"https://colab.research.google.com/github/snbhanja/NuPIC-Algorithm-API-Example/blob/master/colab_v1.ipynb\" target=\"_parent\"><img src=\"https://colab.research.google.com/assets/colab-badge.svg\" alt=\"Open In Colab\"/></a>"
      ]
    },
    {
      "metadata": {
        "id": "7zbkWG8VlJOh",
        "colab_type": "text"
      },
      "cell_type": "markdown",
      "source": [
        "## **Numenta Anomaly Excample\n",
        "\n",
        "\n",
        "\n"
      ]
    },
    {
      "metadata": {
        "id": "ptVtmj7-lMcc",
        "colab_type": "code",
        "colab": {
          "base_uri": "https://localhost:8080/",
          "height": 462
        },
        "outputId": "1e12adf4-ceaa-4c53-f944-c197d2550cff"
      },
      "cell_type": "code",
      "source": [
        "!pip install nupic"
      ],
      "execution_count": 8,
      "outputs": [
        {
          "output_type": "stream",
          "text": [
            "Requirement already satisfied: nupic in /usr/local/lib/python2.7/dist-packages (1.0.5)\n",
            "Requirement already satisfied: python-dateutil==2.1 in /usr/local/lib/python2.7/dist-packages (from nupic) (2.1)\n",
            "Requirement already satisfied: psutil==1.0.1 in /usr/local/lib/python2.7/dist-packages (from nupic) (1.0.1)\n",
            "Requirement already satisfied: PyYAML==3.10 in /usr/local/lib/python2.7/dist-packages (from nupic) (3.10)\n",
            "Requirement already satisfied: coverage==3.7.1 in /usr/local/lib/python2.7/dist-packages (from nupic) (3.7.1)\n",
            "Requirement already satisfied: pycapnp==0.6.3; platform_system == \"Linux\" or platform_system == \"Darwin\" in /usr/local/lib/python2.7/dist-packages (from nupic) (0.6.3)\n",
            "Requirement already satisfied: pyproj==1.9.3 in /usr/local/lib/python2.7/dist-packages (from nupic) (1.9.3)\n",
            "Requirement already satisfied: numpy==1.12.1 in /usr/local/lib/python2.7/dist-packages (from nupic) (1.12.1)\n",
            "Requirement already satisfied: unittest2==0.5.1 in /usr/local/lib/python2.7/dist-packages (from nupic) (0.5.1)\n",
            "Requirement already satisfied: pytest==3.0.7 in /usr/local/lib/python2.7/dist-packages (from nupic) (3.0.7)\n",
            "Requirement already satisfied: DBUtils==1.1 in /usr/local/lib/python2.7/dist-packages (from nupic) (1.1)\n",
            "Requirement already satisfied: validictory==0.9.1 in /usr/local/lib/python2.7/dist-packages (from nupic) (0.9.1)\n",
            "Requirement already satisfied: pytest-cov==2.5.0 in /usr/local/lib/python2.7/dist-packages (from nupic) (2.5.0)\n",
            "Requirement already satisfied: asteval==0.9.1 in /usr/local/lib/python2.7/dist-packages (from nupic) (0.9.1)\n",
            "Requirement already satisfied: mock==1.0.1 in /usr/local/lib/python2.7/dist-packages (from nupic) (1.0.1)\n",
            "Requirement already satisfied: pytest-xdist==1.16.0 in /usr/local/lib/python2.7/dist-packages (from nupic) (1.16.0)\n",
            "Requirement already satisfied: ordereddict==1.1 in /usr/local/lib/python2.7/dist-packages (from nupic) (1.1)\n",
            "Requirement already satisfied: PyMySQL==0.6.2 in /usr/local/lib/python2.7/dist-packages (from nupic) (0.6.2)\n",
            "Requirement already satisfied: prettytable==0.7.2 in /usr/local/lib/python2.7/dist-packages (from nupic) (0.7.2)\n",
            "Requirement already satisfied: nupic.bindings==1.0.6 in /usr/local/lib/python2.7/dist-packages (from nupic) (1.0.6)\n",
            "Requirement already satisfied: six in /usr/local/lib/python2.7/dist-packages (from python-dateutil==2.1->nupic) (1.11.0)\n",
            "Requirement already satisfied: py>=1.4.29 in /usr/local/lib/python2.7/dist-packages (from pytest==3.0.7->nupic) (1.7.0)\n",
            "Requirement already satisfied: setuptools in /usr/local/lib/python2.7/dist-packages (from pytest==3.0.7->nupic) (40.5.0)\n",
            "Requirement already satisfied: execnet>=1.1 in /usr/local/lib/python2.7/dist-packages (from pytest-xdist==1.16.0->nupic) (1.5.0)\n",
            "Requirement already satisfied: apipkg>=1.4 in /usr/local/lib/python2.7/dist-packages (from execnet>=1.1->pytest-xdist==1.16.0->nupic) (1.5)\n"
          ],
          "name": "stdout"
        }
      ]
    },
    {
      "metadata": {
        "id": "cVvhVJG-mDud",
        "colab_type": "code",
        "colab": {
          "base_uri": "https://localhost:8080/",
          "height": 367
        },
        "outputId": "c2c6037b-4f6f-4915-a3e0-d67ca2a0d7ee"
      },
      "cell_type": "code",
      "source": [
        "# Preliminary stuff\n",
        "from __future__ import division, print_function\n",
        "import numpy as np\n",
        "import csv\n",
        "import subprocess\n",
        "from datetime import datetime as dt\n",
        "import matplotlib.pyplot as plt\n",
        "from matplotlib import cm\n",
        "from matplotlib.colors import LinearSegmentedColormap\n",
        "from nupic.encoders.date import DateEncoder\n",
        "from nupic.encoders.random_distributed_scalar import RandomDistributedScalarEncoder\n",
        "from nupic.algorithms.spatial_pooler import SpatialPooler\n",
        "from nupic.algorithms.temporal_memory import TemporalMemory\n",
        "from nupic.algorithms.sdr_classifier_factory import SDRClassifierFactory\n",
        "from nupic.algorithms.anomaly import Anomaly\n",
        "from nupic.algorithms.anomaly_likelihood import AnomalyLikelihood\n",
        "\n",
        "%matplotlib inline\n",
        "\n",
        "# Colormap for TM visualization later\n",
        "# Not active, Active, Predicted, Winner\n",
        "#      black,   grey,    yellow,   cyan\n",
        "colors = [(0,0,0), (0.5,0.5,0.5), (1,1,0), (0,1,1)]\n",
        "tm_cmap = LinearSegmentedColormap.from_list('tm', colors, N=4)\n",
        "\n",
        "_INPUT_FILE_PATH = \"cpu_train.csv\""
      ],
      "execution_count": 9,
      "outputs": [
        {
          "output_type": "error",
          "ename": "ImportError",
          "evalue": "ignored",
          "traceback": [
            "\u001b[0;31m\u001b[0m",
            "\u001b[0;31mImportError\u001b[0mTraceback (most recent call last)",
            "\u001b[0;32m<ipython-input-9-9f0ddb4c958a>\u001b[0m in \u001b[0;36m<module>\u001b[0;34m()\u001b[0m\n\u001b[1;32m      7\u001b[0m \u001b[0;32mfrom\u001b[0m \u001b[0mmatplotlib\u001b[0m \u001b[0;32mimport\u001b[0m \u001b[0mcm\u001b[0m\u001b[0;34m\u001b[0m\u001b[0m\n\u001b[1;32m      8\u001b[0m \u001b[0;32mfrom\u001b[0m \u001b[0mmatplotlib\u001b[0m\u001b[0;34m.\u001b[0m\u001b[0mcolors\u001b[0m \u001b[0;32mimport\u001b[0m \u001b[0mLinearSegmentedColormap\u001b[0m\u001b[0;34m\u001b[0m\u001b[0m\n\u001b[0;32m----> 9\u001b[0;31m \u001b[0;32mfrom\u001b[0m \u001b[0mnupic\u001b[0m\u001b[0;34m.\u001b[0m\u001b[0mencoders\u001b[0m\u001b[0;34m.\u001b[0m\u001b[0mdate\u001b[0m \u001b[0;32mimport\u001b[0m \u001b[0mDateEncoder\u001b[0m\u001b[0;34m\u001b[0m\u001b[0m\n\u001b[0m\u001b[1;32m     10\u001b[0m \u001b[0;32mfrom\u001b[0m \u001b[0mnupic\u001b[0m\u001b[0;34m.\u001b[0m\u001b[0mencoders\u001b[0m\u001b[0;34m.\u001b[0m\u001b[0mrandom_distributed_scalar\u001b[0m \u001b[0;32mimport\u001b[0m \u001b[0mRandomDistributedScalarEncoder\u001b[0m\u001b[0;34m\u001b[0m\u001b[0m\n\u001b[1;32m     11\u001b[0m \u001b[0;32mfrom\u001b[0m \u001b[0mnupic\u001b[0m\u001b[0;34m.\u001b[0m\u001b[0malgorithms\u001b[0m\u001b[0;34m.\u001b[0m\u001b[0mspatial_pooler\u001b[0m \u001b[0;32mimport\u001b[0m \u001b[0mSpatialPooler\u001b[0m\u001b[0;34m\u001b[0m\u001b[0m\n",
            "\u001b[0;31mImportError\u001b[0m: No module named nupic.encoders.date",
            "",
            "\u001b[0;31m---------------------------------------------------------------------------\u001b[0;32m\nNOTE: If your import is failing due to a missing package, you can\nmanually install dependencies using either !pip or !apt.\n\nTo view examples of installing some common dependencies, click the\n\"Open Examples\" button below.\n\u001b[0;31m---------------------------------------------------------------------------\u001b[0m\n"
          ]
        }
      ]
    },
    {
      "metadata": {
        "id": "NiPpXgUqqvLh",
        "colab_type": "code",
        "colab": {}
      },
      "cell_type": "code",
      "source": [
        ""
      ],
      "execution_count": 0,
      "outputs": []
    }
  ]
}